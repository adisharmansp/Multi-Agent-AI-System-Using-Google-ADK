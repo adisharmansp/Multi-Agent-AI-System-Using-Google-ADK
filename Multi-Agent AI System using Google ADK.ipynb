{
  "nbformat": 4,
  "nbformat_minor": 0,
  "metadata": {
    "colab": {
      "provenance": []
    },
    "kernelspec": {
      "name": "python3",
      "display_name": "Python 3"
    },
    "language_info": {
      "name": "python"
    }
  },
  "cells": [
    {
      "cell_type": "markdown",
      "source": [],
      "metadata": {
        "id": "qWN3btx68dms"
      }
    },
    {
      "cell_type": "markdown",
      "source": [
        "# Install Required Libraries"
      ],
      "metadata": {
        "id": "lKGEhCjh8cQL"
      }
    },
    {
      "cell_type": "code",
      "execution_count": 2,
      "metadata": {
        "colab": {
          "base_uri": "https://localhost:8080/"
        },
        "id": "IbvZ5DmE7YEs",
        "outputId": "977f816c-8d80-47af-dc77-b72925e59aab"
      },
      "outputs": [
        {
          "output_type": "stream",
          "name": "stdout",
          "text": [
            "Requirement already satisfied: openai in /usr/local/lib/python3.11/dist-packages (1.84.0)\n",
            "Requirement already satisfied: requests in /usr/local/lib/python3.11/dist-packages (2.32.3)\n",
            "Requirement already satisfied: anyio<5,>=3.5.0 in /usr/local/lib/python3.11/dist-packages (from openai) (4.9.0)\n",
            "Requirement already satisfied: distro<2,>=1.7.0 in /usr/local/lib/python3.11/dist-packages (from openai) (1.9.0)\n",
            "Requirement already satisfied: httpx<1,>=0.23.0 in /usr/local/lib/python3.11/dist-packages (from openai) (0.28.1)\n",
            "Requirement already satisfied: jiter<1,>=0.4.0 in /usr/local/lib/python3.11/dist-packages (from openai) (0.10.0)\n",
            "Requirement already satisfied: pydantic<3,>=1.9.0 in /usr/local/lib/python3.11/dist-packages (from openai) (2.11.5)\n",
            "Requirement already satisfied: sniffio in /usr/local/lib/python3.11/dist-packages (from openai) (1.3.1)\n",
            "Requirement already satisfied: tqdm>4 in /usr/local/lib/python3.11/dist-packages (from openai) (4.67.1)\n",
            "Requirement already satisfied: typing-extensions<5,>=4.11 in /usr/local/lib/python3.11/dist-packages (from openai) (4.14.0)\n",
            "Requirement already satisfied: charset-normalizer<4,>=2 in /usr/local/lib/python3.11/dist-packages (from requests) (3.4.2)\n",
            "Requirement already satisfied: idna<4,>=2.5 in /usr/local/lib/python3.11/dist-packages (from requests) (3.10)\n",
            "Requirement already satisfied: urllib3<3,>=1.21.1 in /usr/local/lib/python3.11/dist-packages (from requests) (2.4.0)\n",
            "Requirement already satisfied: certifi>=2017.4.17 in /usr/local/lib/python3.11/dist-packages (from requests) (2025.4.26)\n",
            "Requirement already satisfied: httpcore==1.* in /usr/local/lib/python3.11/dist-packages (from httpx<1,>=0.23.0->openai) (1.0.9)\n",
            "Requirement already satisfied: h11>=0.16 in /usr/local/lib/python3.11/dist-packages (from httpcore==1.*->httpx<1,>=0.23.0->openai) (0.16.0)\n",
            "Requirement already satisfied: annotated-types>=0.6.0 in /usr/local/lib/python3.11/dist-packages (from pydantic<3,>=1.9.0->openai) (0.7.0)\n",
            "Requirement already satisfied: pydantic-core==2.33.2 in /usr/local/lib/python3.11/dist-packages (from pydantic<3,>=1.9.0->openai) (2.33.2)\n",
            "Requirement already satisfied: typing-inspection>=0.4.0 in /usr/local/lib/python3.11/dist-packages (from pydantic<3,>=1.9.0->openai) (0.4.1)\n"
          ]
        }
      ],
      "source": [
        "!pip install openai requests"
      ]
    },
    {
      "cell_type": "markdown",
      "source": [
        "# Set API Keys"
      ],
      "metadata": {
        "id": "hLTopPQz8u0_"
      }
    },
    {
      "cell_type": "code",
      "source": [
        "OPENAI_API_KEY = \"your_openai_api_key_here\"\n",
        "OPENWEATHER_API_KEY = \"your_openweathermap_api_key_here\"\n"
      ],
      "metadata": {
        "id": "vlXbhH_YHG9f"
      },
      "execution_count": null,
      "outputs": []
    },
    {
      "cell_type": "markdown",
      "source": [
        "# Import Libraries"
      ],
      "metadata": {
        "id": "KhQ3O08eCHh_"
      }
    },
    {
      "cell_type": "code",
      "source": [
        "import requests\n",
        "import openai\n",
        "openai.api_key = OPENAI_API_KEY"
      ],
      "metadata": {
        "id": "QS5urhumCLMX"
      },
      "execution_count": 4,
      "outputs": []
    },
    {
      "cell_type": "markdown",
      "source": [
        "# Define Planner Agent"
      ],
      "metadata": {
        "id": "FubEUpOh8-v4"
      }
    },
    {
      "cell_type": "code",
      "source": [
        "class PlannerAgent:\n",
        "    def __init__(self, goal):\n",
        "        self.goal = goal\n",
        "        self.plan = [\"spacex\", \"weather\", \"summarize\"]\n",
        "\n",
        "    def get_plan(self):\n",
        "        return self.plan\n"
      ],
      "metadata": {
        "id": "QDGq3Ds69AQ0"
      },
      "execution_count": 5,
      "outputs": []
    },
    {
      "cell_type": "markdown",
      "source": [
        "# Define SpaceX Agent"
      ],
      "metadata": {
        "id": "NkRaIAMG9JI-"
      }
    },
    {
      "cell_type": "code",
      "source": [
        "class SpaceXAgent:\n",
        "    def run(self):\n",
        "        res = requests.get(\"https://api.spacexdata.com/v4/launches/next\").json()\n",
        "        location_id = res['launchpad']\n",
        "        launch_time = res['date_utc']\n",
        "\n",
        "        site_data = requests.get(f\"https://api.spacexdata.com/v4/launchpads/{location_id}\").json()\n",
        "\n",
        "        return {\n",
        "            'launch_time': launch_time,\n",
        "            'location': {\n",
        "                'name': site_data['name'],\n",
        "                'lat': site_data['latitude'],\n",
        "                'lon': site_data['longitude']\n",
        "            }\n",
        "        }\n"
      ],
      "metadata": {
        "id": "dcZxdEGk9MQ0"
      },
      "execution_count": 6,
      "outputs": []
    },
    {
      "cell_type": "markdown",
      "source": [
        "# Define Weather Agent"
      ],
      "metadata": {
        "id": "du1TXPNQ9RUQ"
      }
    },
    {
      "cell_type": "code",
      "source": [
        "class WeatherAgent:\n",
        "    def __init__(self, api_key):\n",
        "        self.api_key = api_key\n",
        "\n",
        "    def run(self, location, launch_time):\n",
        "        lat, lon = location['lat'], location['lon']\n",
        "        print(f\" Checking weather for: {location['name']} (Lat: {lat}, Lon: {lon})\")\n",
        "\n",
        "        url = f\"https://api.openweathermap.org/data/2.5/weather?lat={lat}&lon={lon}&appid={self.api_key}&units=metric\"\n",
        "        print(f\" Weather API URL: {url}\")\n",
        "\n",
        "        res = requests.get(url)\n",
        "        data = res.json()\n",
        "\n",
        "        if 'weather' not in data:\n",
        "            print(\" ERROR: 'weather' key not found.\")\n",
        "            print(\" Response:\", data)\n",
        "            return {\n",
        "                'description': 'unknown',\n",
        "                'wind_speed': 0,\n",
        "                'visibility': 0,\n",
        "                'clouds': 0\n",
        "            }\n",
        "\n",
        "        return {\n",
        "            'description': data['weather'][0]['description'],\n",
        "            'wind_speed': data['wind']['speed'],\n",
        "            'visibility': data.get('visibility', 0),\n",
        "            'clouds': data.get('clouds', {}).get('all', 0)\n",
        "        }\n"
      ],
      "metadata": {
        "id": "Ke9ZJsZOCa6p"
      },
      "execution_count": 14,
      "outputs": []
    },
    {
      "cell_type": "markdown",
      "source": [
        "# Define Summarizer Agent"
      ],
      "metadata": {
        "id": "ypTlqaU29cZI"
      }
    },
    {
      "cell_type": "code",
      "source": [
        "class SummarizerAgent:\n",
        "    def run(self, weather_data, location_name, launch_time):\n",
        "        wind = weather_data['wind_speed']\n",
        "        visibility = weather_data['visibility']\n",
        "        clouds = weather_data['clouds']\n",
        "        desc = weather_data['description']\n",
        "\n",
        "        issues = []\n",
        "\n",
        "        if wind > 10:\n",
        "            issues.append(\"high wind\")\n",
        "        if visibility < 5000:\n",
        "            issues.append(\"low visibility\")\n",
        "        if clouds > 70:\n",
        "            issues.append(\"heavy cloud cover\")\n",
        "\n",
        "        if issues:\n",
        "            reason = \", \".join(issues)\n",
        "            return f\" Launch at {location_name} on {launch_time} may be delayed due to {reason} ({desc}).\"\n",
        "        else:\n",
        "            return f\" Launch at {location_name} on {launch_time} is likely on schedule. Weather looks good ({desc}).\"\n"
      ],
      "metadata": {
        "id": "-iXbFzI4MRCv"
      },
      "execution_count": 15,
      "outputs": []
    },
    {
      "cell_type": "markdown",
      "source": [
        "# Run the Entire Agent System"
      ],
      "metadata": {
        "id": "qb49xXIg9k59"
      }
    },
    {
      "cell_type": "code",
      "source": [
        "goal = \"Find the next SpaceX launch, check weather at that location, then summarize if it may be delayed.\"\n",
        "# Pass the 'goal' argument to the PlannerAgent constructor\n",
        "planner = PlannerAgent(goal)\n",
        "plan = planner.get_plan() # Assuming get_plan() is the correct method name based on the PlannerAgent definition\n",
        "print(\"📋 Plan from Planner:\", plan)\n",
        "\n",
        "# Fetch SpaceX launch\n",
        "spacex = SpaceXAgent()\n",
        "launch_data = spacex.run()\n",
        "print(\"🚀 Launch Info:\", launch_data)\n",
        "\n",
        "# Ensure OPENWEATHER_API_KEY is defined in a previous cell\n",
        "weather = WeatherAgent(OPENWEATHER_API_KEY)\n",
        "weather_data = weather.run(launch_data['location'], launch_data['launch_time'])\n",
        "print(\"🌤️ Weather Data:\", weather_data)\n",
        "\n",
        "# Ensure OPENAI_API_KEY is defined in a previous cell\n",
        "summarizer = SummarizerAgent() # SummarizerAgent does not require API key in __init__ based on current definition\n",
        "summary = summarizer.run(weather_data, launch_data['location']['name'], launch_data['launch_time'])\n",
        "\n",
        "# Final Output\n",
        "print(\"\\n🔎 FINAL SUMMARY:\\n\", summary)"
      ],
      "metadata": {
        "colab": {
          "base_uri": "https://localhost:8080/"
        },
        "id": "Mq7mA6XwMjgg",
        "outputId": "d331e088-a899-4cd6-82aa-15785150602b"
      },
      "execution_count": 13,
      "outputs": [
        {
          "output_type": "stream",
          "name": "stdout",
          "text": [
            "📋 Plan from Planner: ['spacex', 'weather', 'summarize']\n",
            "🚀 Launch Info: {'launch_time': '2022-11-01T13:41:00.000Z', 'location': {'name': 'KSC LC 39A', 'lat': 28.6080585, 'lon': -80.6039558}}\n",
            "📍 Checking weather for: KSC LC 39A (Lat: 28.6080585, Lon: -80.6039558)\n",
            "🌐 Weather API URL: https://api.openweathermap.org/data/2.5/weather?lat=28.6080585&lon=-80.6039558&appid=e2fd32f1deba0073258ead956d5fe5b9&units=metric\n",
            "🌤️ Weather Data: {'description': 'overcast clouds', 'wind_speed': 7.2, 'visibility': 10000, 'clouds': 100}\n",
            "\n",
            "🔎 FINAL SUMMARY:\n",
            " 🚫 Launch at KSC LC 39A on 2022-11-01T13:41:00.000Z may be delayed due to heavy cloud cover (overcast clouds).\n"
          ]
        }
      ]
    }
  ]
}